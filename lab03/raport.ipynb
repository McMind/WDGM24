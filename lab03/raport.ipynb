{
 "cells": [
  {
   "cell_type": "code",
   "id": "b2306d71dd9d5e00",
   "metadata": {},
   "source": [
    "import numpy as np\n",
    "from PIL import Image"
   ],
   "outputs": [],
   "execution_count": null
  },
  {
   "cell_type": "markdown",
   "id": "57ef50bfe741c1bf",
   "metadata": {},
   "source": [
    "# Raport Lab 3 (18.10.2024)\n",
    "Wykonany przez: Filip Połom\n",
    "\n"
   ]
  },
  {
   "cell_type": "markdown",
   "id": "99a1f9c06894cec0",
   "metadata": {},
   "source": [
    "### Zad 1"
   ]
  },
  {
   "cell_type": "code",
   "id": "973e9a92b9edbe47",
   "metadata": {},
   "source": [
    "def rysuj_ramki_szare(w, h, grub, zmiana_koloru):\n",
    "    t = (h, w)\n",
    "    tab = np.ones(t, dtype=np.uint8)\n",
    "    min_dimension = min(w, h)\n",
    "    liczba_paskow = min_dimension // (2 * grub) + 1\n",
    "    for i in range(liczba_paskow):\n",
    "        start = i * grub\n",
    "        end_w = w - start\n",
    "        end_h = h - start\n",
    "        tab[start:end_h, start:end_w] = (i * zmiana_koloru) % 256\n",
    "    return Image.fromarray(tab)\n",
    "\n",
    "def rysuj_pasy_pionowe_szare(w, h, grub, zmiana_koloru):\n",
    "    t = (h, w)\n",
    "    tab = np.ones(t, dtype=np.uint8)\n",
    "    ile = w // grub\n",
    "    for k in range(ile):\n",
    "        for g in range(grub):\n",
    "            j = k * grub + g\n",
    "            for i in range(h):\n",
    "                tab[i, j] = (k + zmiana_koloru) % 256\n",
    "    return Image.fromarray(tab)\n",
    "\n",
    "rysunek1 = rysuj_ramki_szare(300, 200, 5, 10)\n",
    "rysunek2 = rysuj_pasy_pionowe_szare(300, 200, 5, 10)"
   ],
   "outputs": [],
   "execution_count": null
  },
  {
   "cell_type": "markdown",
   "id": "e969c03c4b46a80b",
   "metadata": {},
   "source": [
    "![rysunek1](data:image/png;base64,iVBORw0KGgoAAAANSUhEUgAAASwAAADICAAAAAB3tIOJAAACpklEQVR4nO3WvW6jYBgF4dko1d7/tbpOE2W9Do4ZfmL8MU8FHRq9OgKSJEP6A8DfJ3/F8V0A3p79Fa+kWEKxhGIJ7/8eW/lpl6+nLksollAsoVjC+817K3/t8v9rlyUUSyiWUCzhduCBVh6+bTvQZSnFEoolFEuYHHjgzCs/te1Al6UUSyiWUCzh/sAD51v5u9sOdFlKsYRiCcUSHgw8cJaV/3nbgS5LKZZQLKFYwpyBB8Ze+RnbDnRZSrGEYgnFEmYPPDDiys/ddqDLUoolFEsoluAGHhhn5dW2A12WUiyhWEKxhAUDD7z6yvttB7ospVhCsYRiCUsHHnjNlV+47UCXpRRLKJZQLGHVwAOvtPJrth3ospRiCcUSiiWsH3jg+Cu/etuBLkspllAsoVjCRgMPHHXlt9l2oMtSiiUUSyiWsOXAA8da+Q23HeiylGIJxRKKJWw+8MARVn7rbQe6LKVYQrGEYgn7DDzwvJXfZduBLkspllAsoVjCjgMP/PbK77ftQJelFEsollAsoVhCsYRiCcUSiiXs/Qe/8z/17+qyhGIJxRKKJew48ENtO9BlKcUSiiUUS9hn4MfbdqDLUoolFEsolrD5wA+67UCXpRRLKJZQLGHLgR9524EuSymWUCyhWMJGAz/8tgNdllIsoVhCsYT1A3+ObQe6LKVYQrGEYgmrBv5E2w50WUqxhGIJxRKWDvzZth3ospRiCcUSiiUsGPhTbjvQZSnFEoolFEtwA3/ebQe6LKVYQrGEYgmzB/7k2w50WUqxhGIJxRLmDHzb/qnLEoolFEsolvBg4Nv2a12WUCyhWEKxhPsD37Z/02UJxRKKJRRLmBz4tn1alyUUSyiWUCzhduDb9h90WUKxhGIJxRKuBr5tf6TLEoolFEsoVpIkH5JlJhAVJQa2AAAAAElFTkSuQmCC \"rysuj ramki szare\")\n",
    "\n",
    "4 parametr określa o jaki odcień zmienia się każda kolejna ramka"
   ]
  },
  {
   "cell_type": "markdown",
   "id": "be99ea9d140996e6",
   "metadata": {},
   "source": [
    "![rysunek2](data:image/png;base64,iVBORw0KGgoAAAANSUhEUgAAASwAAADICAAAAAB3tIOJAAABr0lEQVR4nO3QMQHAMADDsHRn+QMehfqXDgPwudt25CXfeGZWYFZgVmBWYFZgVmBWYFZgVmBWYFZgVmBWYFZgVmBWYFZgVmBWYFZgVmBWYFZgVmBWYFZgVmBWYFZgVmBWYFZgVmBWYFZgVmBWYFZgVmBWYFZgVmBWYFZgVmBWYFZgVmBWYFZgVmBWYFZgVmBWYFZgVmBWYFZgVmBWYFZgVmBWYFZgVmBWYFZgVmBWYFZgVmBWYFZgVmBWYFZgVmBWYFZgVmBWYFZgVmBWYFZgVmBWYFZgVmBWYFZgVmBWYFZgVmBWYFZgVmBWYFZgVmBWYFZgVmBWYFZgVmBWYFZgVmBWYFZgVmBWYFZgVmBWYFZgVmBWYFZgVmBWYFZgVmBWYFZgVmBWYFZgVmBWYFZgVmBWYFZgVmBWYFZgVmBWYFZgVmBWYFZgVmBWYFZgVmBWYFZgVmBWYFZgVmBWYFZgVmBWYFZgVmBWYFZgVmBWYFZgVmBWYFZgVmBWYFZgVmBWYFZgVmBWYFZgVmBWYFZgVmBWYFZgVmBWYFZgVmBWYFZgVmBWYFZgVmBWYFZgVvAD79IB1dIW3oYAAAAASUVORK5CYII= \"pasy pionowe szare\")\n",
    "\n",
    "4 parametr określa o jaki odcień zmienia się każdy kolejny pasek od lewej do prawej\n"
   ]
  },
  {
   "cell_type": "markdown",
   "id": "be5aa8f3ac792bd3",
   "metadata": {},
   "source": [
    "### Zad 2"
   ]
  },
  {
   "cell_type": "code",
   "id": "2816a7be24cc322a",
   "metadata": {},
   "source": [
    "def negatyw(obraz: Image) -> Image:\n",
    "    tab = np.asarray(obraz)\n",
    "    tab_neg = tab.copy()\n",
    "    match obraz.mode:\n",
    "        case 'L':\n",
    "            h, w = tab.shape\n",
    "            for i in range(h):\n",
    "                for j in range(w):\n",
    "                    tab_neg[i, j] = 255 - tab[i, j]\n",
    "        case '1':\n",
    "            h, w = tab.shape\n",
    "            for i in range(h):\n",
    "                for j in range(w):\n",
    "                    tab_neg[i, j] = 1 - tab_neg[i, j]\n",
    "        case 'RGB':\n",
    "            h, w, b = tab.shape\n",
    "            for i in range(h):\n",
    "                for j in range(w):\n",
    "                    for k in range(b):\n",
    "                        tab_neg[i, j, k] = 255 - tab_neg[i, j, k]\n",
    "        case 'RGBA':\n",
    "            h, w, b = tab.shape\n",
    "            for i in range(h):\n",
    "                for j in range(w):\n",
    "                    tab_neg[i, j] = tuple(255 - tab_neg[i, j, k] if k < 3 else tab_neg[i, j, k] for k in range(4))\n",
    "        case _:\n",
    "            raise TypeError(\"Nie obsługiwany format obrazu\")\n",
    "    return Image.fromarray(tab_neg)"
   ],
   "outputs": [],
   "execution_count": null
  },
  {
   "cell_type": "markdown",
   "id": "f507aa801edf180a",
   "metadata": {},
   "source": [
    "| `   nr    ` |                                                                                                                                                                                                                                                                                                                                                                                                                                                                                                                                                                                                                                                                                                                                                                                                                                                                                                                                                                               Oryginal                                                                                                                                                                                                                                                                                                                                                                                                                                                                                                                                                                                                                                                                                                                                                                                                                                                                                                                                                                               |                                                                                                                                                                                                                                                                                                                                                                                                                                                                                                                                                                                                                                                                                                                                                                                                                                                                                                                                                                               Negatyw                                                                                                                                                                                                                                                                                                                                                                                                                                                                                                                                                                                                                                                                                                                                                                                                                                                                                                                                                                               |\n",
    "|:-----------:|:--------------------------------------------------------------------------------------------------------------------------------------------------------------------------------------------------------------------------------------------------------------------------------------------------------------------------------------------------------------------------------------------------------------------------------------------------------------------------------------------------------------------------------------------------------------------------------------------------------------------------------------------------------------------------------------------------------------------------------------------------------------------------------------------------------------------------------------------------------------------------------------------------------------------------------------------------------------------------------------------------------------------------------------------------------------------------------------------------------------------------------------------------------------------------------------------------------------------------------------------------------------------------------------------------------------------------------------------------------------------------------------------------------------------------------------------------------------------------------------------------------------------------------------------------------------------------------------------------------------------------------------------------------------------------------------------------------------------------------------------------------------------------------------------------------------------------------------------------------------------------------------------------------------------------------------------------------------------:|:-------------------------------------------------------------------------------------------------------------------------------------------------------------------------------------------------------------------------------------------------------------------------------------------------------------------------------------------------------------------------------------------------------------------------------------------------------------------------------------------------------------------------------------------------------------------------------------------------------------------------------------------------------------------------------------------------------------------------------------------------------------------------------------------------------------------------------------------------------------------------------------------------------------------------------------------------------------------------------------------------------------------------------------------------------------------------------------------------------------------------------------------------------------------------------------------------------------------------------------------------------------------------------------------------------------------------------------------------------------------------------------------------------------------------------------------------------------------------------------------------------------------------------------------------------------------------------------------------------------------------------------------------------------------------------------------------------------------------------------------------------------------------------------------------------------------------------------------------------------------------------------------------------------------------------------------------------------------:|\n",
    "|      1      |                                                                                                                                                                                                                                                                                                                                                                                                                                                                                                                                                   ![oryginal1](data:image/bmp;base64,Qk3eDwAAAAAAAD4AAAAoAAAAlgAAAMgAAAABAAEAAAAAAKAPAAAAAAAAAAAAAAAAAAAAAAAAAAAAAP///wD////////////////////////8AP////////////////////////wA/////////////////////////AD////////////////////////8AP////////////////////////wA/////////////////////////AD////////////////////////8AP////////////////////////wA/////////////////////////AD////////////////////////8AP////////////////////////wA/////////////////////////AD////////////////////////8AP////////////////////////wA/////////////////////////AD////////////////////////8AP////////////////////////wA/////////////////////////AD////////////////////////8AP////////////////////////wA/////////////////////////AD////////////////////////8AP////////////////////////wA/////////////////////////AD////////////////////////8AP////////////////////////wA/////////////////////////AD////////////////////////8AP////////////////////////wA/////////////////////////AD////////////////////////8AP////////////////////////wA/////////////////////////AD////////////////////////8AP////////////////////////wA/////////////////////////AD////////////////////////8AP////////////////////////wA/////////////////////////AD////////////////////////8AP////////////////////////wA/////////////////////////AD////////////////////////8AP////////////////////////wA/////////////////////////AD////////////////////////8AP////////////////////////wA/////////////////////////AD////////////////////////8AP////////////////////////wA/////////////////////////AD////////////////////////8AP////////////////////////wA/////////////////////////AD////////////////////////8AP////////////////////////wA///////f//////////v//////AD//////wf/////////4P/////8AP/////+Af////////+Af/////wA//////4A/////////wB//////AD//////gA////////8AH/////8AP/////+AB////////gAf/////wA//////4AB///////4AB//////AD//////gAB///////AAH/////8AP//////AAD//////wAA//////wA//////8AAD/////+AAD//////AD//////wAAH/////gAAP/////8AP//////gAAH////8AAB//////wA//////+AAAP////AAAH//////AD//////4AAAP///4AAAf/////8AP//////gCAAf//+AAAB//////wA///////AMAAf//wADAP//////AD//////8A8AA//8AAcA//////8AP//////wB4AA//gAHgD//////wA///////gH4AA/4AA+Af//////AD//////+AfwAB/AAP4B//////8AP//////4A/wABwAB/AH//////wA///////wD/wACAAf8A///////AD///////AP/gAAAD/wD//////8AP//////8Af/gAAA/+AP//////wA///////4B//AAAH/4B///////AD///////gH//AAB//gH//////8AP//////+AP/+AAP/8Af//////wA///////8A//+AD//wD///////AD///////wD//8Af//AP//////8AP///////AH//8H//4A///////wA///////+Af//////gH///////AD///////4B//////+Af//////8AP///////gD//////wB///////wA///////+AP//////AH///////AD///////8A//////8A///////8AP///////wD//////wD///////wA////////AH/////+AP///////AD///////+Af/////4B///////8AP///////4B//////gH///////wA////////gD/////8Af///////AD////////AP/////wD///////8AP///////4A//////AH///////wA////////AD/////4AP///////AD///////wAP/////wAP//////8AP//////+AA//////AAf//////wA///////wAH/////+AA///////AD//////8AA//////8AA//////8AP//////gAH//////8AB//////wA//////8AB///////4AD//////AD//////AAP///////wAD/////8AP/////4AB////////wAH/////wA//////AAf////////gAP/////AD/////wAD/////////AAP////8AP////+AAf/////////AAf////wA/////wAH/////////+AA/////AD////8AA//////////8AA////8AP////gAH//////////8AB////wA////8AB///////////4AD////AD////AAP///////////wAD///8AP///4AB////////////wAH///wA////AAf////////////gAP///AD///wAD/////////////AAP//8AP//+AAf/////////////AAf//wA///wAAAAAAD///8AAAAAAA///AD//+AAAAAAAD///AAAAAAAB//8AP//4AAAAAAAH//4AAAAAAAH//wA///gAAAAAAAf//gAAAAAAAf//AD//+AAAAAAAA//8AAAAAAAB//8AP//4AAAAAAAD//wAAAAAAAH//wA///wAAAAAAAP//AAAAAAAA///AD///wAAAAAAAf/4AAAAAAAP//8AP/////////4B//gH/////////wA//////////gH/+Af/////////AD/////////+AP/wB/////////8AP/////////8A//AP/////////wA//////////wD/8A//////////AD//////////AH/gD/////////8AP/////////+Af+AP/////////wA//////////4A/4B//////////AD//////////gD/gH/////////8AP//////////AP8Af/////////wA//////////8AfwD//////////AD//////////wB/AP/////////8AP//////////gH4A//////////wA//////////+APgH//////////AD//////////4A+Af/////////8AP//////////wDwB//////////wA///////////AHAP//////////AD//////////+AcA//////////8AP//////////4BgD//////////wA///////////gCAf//////////AD///////////AIB//////////8AP//////////8AAH//////////wA///////////wAA///////////AD///////////gAD//////////8AP//////////+AAP//////////wA///////////4AA///////////AD///////////wAH//////////8AP///////////AAf//////////wA///////////8AB///////////AD///////////4AP//////////8AP///////////gA///////////wA///////////+AD///////////AD///////////8Af//////////8AP///////////wB///////////wA////////////AH///////////AD///////////+A///////////8AP///////////4D///////////wA////////////wf///////////AD////////////////////////8AP////////////////////////wA/////////////////////////AD////////////////////////8AP////////////////////////wA/////////////////////////AD////////////////////////8AP////////////////////////wA/////////////////////////AD////////////////////////8AP////////////////////////wA/////////////////////////AD////////////////////////8AP////////////////////////wA/////////////////////////AD////////////////////////8AP////////////////////////wA/////////////////////////AD////////////////////////8AP////////////////////////wA/////////////////////////AD////////////////////////8AP////////////////////////wA/////////////////////////AD////////////////////////8AP////////////////////////wA/////////////////////////AD////////////////////////8AP////////////////////////wA/////////////////////////AD////////////////////////8AP////////////////////////wA/////////////////////////AD////////////////////////8AP////////////////////////wA)                                                                                                                                                                                                                                                                                                                                                                                                                                                                                                                                                   |                                                                                                                                                                                                                                                                                                                                                                                                                                                                                                                                                                     ![negatyw1](data:image/png;base64,iVBORw0KGgoAAAANSUhEUgAAAJYAAADIAQAAAAAi/iXIAAACAUlEQVR4nO2VMY7bMBBFH7WCV4UAu0xnH8EnyCr3yF1WXU4RIEdRbpAjaFNtkULFFsJC1qQQORxaihwYSBFAU0jE1//8Q86Qgi22+N/jo44yHX1awJZC6jXeKuao7tZmnO7W5hzu1haLvGKO9XOeulpel8+xYc47LWnbbIZV41J+C1jjZlgtq1oNiUUPPAcBWvcVtOjZ9Tc7Hmn+Zr6cuDXKG2hvaB9ERHrgKCIyOe1FRKTTN1lSMaC4sbYuFn2V15oCB1/A+Pa8OOcA51zOhA0mmzKsUGKbHcV71DvFTqGiT7G0Esz3WkUnnR89ip+YB2n9fNG4jBurxkfRtanxKbqpscQ1B+NoG40n22m+YGxs1Xiy9XvqjY2tGku61bWxnbQ9FZBhsaBpDXYBIPfd62tZAwze1mMNAGOCJaLQB02krfVLDYBLPol5rmiDqL7lIYa2wsuY/hWV5Y3wvQ6n9c93ew47zuG0et5AQRGqq9ozu1RbQIVLj+O+cyLS7LtEm9Ff3QcHSn7xwV/Rnted+UruWzhcwBV1/JkB8PQiA0f5MljtT97o+JzkXNLxFtKb5qsOfGOktD35LAI8y5jkfAG97AI2AD+SXERa4FEk4bXA+xXPvjIA5+tbTRX22nedIGKv5hmwVhPiqp8vFgvrrE0uekcY7OTfOVtsscUW/zJ+A/QyubiEGDX0AAAAAElFTkSuQmCC)                                                                                                                                                                                                                                                                                                                                                                                                                                                                                                                                                                     |\n",
    "|      2      | ![oryginal2](data:image/png;base64,iVBORw0KGgoAAAANSUhEUgAAAMgAAADICAIAAAAiOjnJAAAFN0lEQVR4nO3bOXajRwwA4bKfeAMf1of1TZg44IxGorj8Sy8AuirqEMH3gKj/+uff/zBr3QdwvV5mj2GlulyuH7eXtqxVl8uV28a6pS07300VX2GhLTvXpyruYKEtO9pXVfyEhbZsf3eqeAgLbdmefqriGSy0Zdt6qIoXsNCWveuZKl7DQlv2vBeqeAsLbdmjXqtiCyy0Zd97q4qNsNCW/W6LKrbDQlu2WRW7YKGttduuir2w0Naq7VLFAVhoa732quIYLLS1UgdUcRgW2lqjY6o4AwttVe+wKk7CQlt1O6OK87DQVsVOqqIJLLRVq/OqaAULbVWpiSoawkJb+Wuliraw0FbmGqqiOSy0lbO2qugBC21lq7kqOsFCW3nqoYp+sNBWhjqpoisstBW7fqroDQttRa2rKgbAQlvx6q2KMbDQVqQGqGIYLLQVozGqGAkLbc1umCoGw0Jb8xqpivGw0NaMBqtiCiy0NbbxqpgFC22NaooqJsJCW/2bpYq5sNBWzyaqYjostNWnuaqIAAtttW66KoLAQlvtiqCKOLDQVouCqCIULLR1rjiqiAYLbR0tlCoCwkJb+4umipiw0NaeAqoiLCy0ta2YqogMC229K6wqgsNCW8+LrIr4sNDWo4KrIgUstPW9+KrIAgtt/S6FKhLBQlt5VJELFmvbSqSKdLBY1VYuVWSExXq20qkiKSxWspVRFXlhsYatpKpIDYvqtvKqIjss6tpKrYoCsKhoK7sqasCilq0CqigDiyq2aqiiEizy2yqjimKwyGyrkirqwSKnrWKqKAmLbLbqqaIqLPLYKqmKwrDIYKuqKmrDIratwqooD4uotmqrYgVYxLNVXhWLwCKSrRVUsQ4sYthaRBVLwWK2rXVUsRos5tlaShULwmKGrdVUsSYsxtpaUBXLwmKUrTVVsTIs+ttaVhWLw6KnrZVVISz62FpcFcK61daWqhDWZ61sqeqWsP503paqPhPWt87YUtXXhHXfMVuquktYD9prS1U/E9bjtttS1cOE9bQttlT1LGG96rUtVb1IWG96ZktVrxPW+37aUtXbhLWpr7ZUtaW/Zw+Qpuv1EuE7RpaEZV3yFG7NC7grYW1KVXsT1vtUdSBhvUlVxxLWq1R1OGE9TVVnEtbjVHUyYT1IVecT1n2qapKwvqWqVgnrT6pqmLB+paq2CQtU1SFhqapLq8NSVaeWhqWqfq0LS1VdWxSWqnq3IixVDWg5WKoa01qwVDWshWCpamSrwFLV4JaAparx1YelqikVh6WqWVWGpaqJlYWlqrnVhKWq6RWEpaoIVYOlqiCVgqWqONWBpapQFYGlqmhVgKWqgKWHpaqY5YalqrAlhqWqyGWFpargpYSlqvjlg6WqFCWDpaosZYKlqkSlgaWqXOWApap0JYClqoxFh6WqpIWGpaq8xYWlqtQFhaWq7EWEpaoChYOlqhrFgqWqMgWCpapKRYGlqmKFgKWqes2HpaqSTYalqqrNhKWqwk2DparazYGlqvJNgKWqFRoNS1WLNBSWqtZpHCxVLdUgWKparRGwVLVg3WGpas36wlLVsnWEpaqV6wVLVYvXBZaqrD0sVRnNYanKbrWEpSr7rBksVdnX2sBSld3VAJaq7GdnYanKHnYKlqrsWcdhqcpedBCWqux1R2Cpyt62G5aqbEv7YKnKNrYDlqpse1thqcp2tQmWqmxv72Gpyg70Bpaq7FivYKnKDvcUlqrsTI9hqcpO9gCWqux897BUZU36BktV1qo/sFRlDfsFS1XWtg9UZR36H+5Pk3Z5EuoTAAAAAElFTkSuQmCC) | ![negatyw2](data:image/png;base64,iVBORw0KGgoAAAANSUhEUgAAAMgAAADICAIAAAAiOjnJAAAFN0lEQVR4nO3bOXajRwwA4bKfeBIf1of1EZg44IxGorj8Sy8AuirqEMH3gKj/+u/ffzBr3QdwuVxnj2Glul4vH7eXtqxV1+uF28a6pS07300VX2GhLTvXpyruYKEtO9pXVfyEhbZsf3eqeAgLbdmefqriGSy0Zdt6qIoXsNCWveuZKl7DQlv2vBeqeAsLbdmjXqtiCyy0Zd97q4qNsNCW/W6LKrbDQlu2WRW7YKGttduuir2w0Naq7VLFAVhoa732quIYLLS1UgdUcRgW2lqjY6o4AwttVe+wKk7CQlt1O6OK87DQVsVOqqIJLLRVq/OqaAULbVWpiSoawkJb+Wuliraw0FbmGqqiOSy0lbO2qugBC21lq7kqOsFCW3nqoYp+sNBWhjqpoisstBW7fqroDQttRa2rKgbAQlvx6q2KMbDQVqQGqGIYLLQVozGqGAkLbc1umCoGw0Jb8xqpivGw0NaMBqtiCiy0NbbxqpgFC22NaooqJsJCW/2bpYq5sNBWzyaqYjostNWnuaqIAAtttW66KoLAQlvtiqCKOLDQVouCqCIULLR1rjiqiAYLbR0tlCoCwkJb+4umipiw0NaeAqoiLCy0ta2YqogMC229K6wqgsNCW8+LrIr4sNDWo4KrIgUstPW9+KrIAgtt/S6FKhLBQlt5VJELFmvbSqSKdLBY1VYuVWSExXq20qkiKSxWspVRFXlhsYatpKpIDYvqtvKqIjss6tpKrYoCsKhoK7sqasCilq0CqigDiyq2aqiiEizy2yqjimKwyGyrkirqwSKnrWKqKAmLbLbqqaIqLPLYKqmKwrDIYKuqKmrDIratwqooD4uotmqrYgVYxLNVXhWLwCKSrRVUsQ4sYthaRBVLwWK2rXVUsRos5tlaShULwmKGrdVUsSYsxtpaUBXLwmKUrTVVsTIs+ttaVhWLw6KnrZVVISz62FpcFcK61daWqhDWZ61sqeqWsP503paqPhPWt87YUtXXhHXfMVuquktYD9prS1U/E9bjtttS1cOE9bQttlT1LGG96rUtVb1IWG96ZktVrxPW+37aUtXbhLWpr7ZUtaW/Zw+QpsvlGuE7RpaEZV3yFG7NC7grYW1KVXsT1vtUdSBhvUlVxxLWq1R1OGE9TVVnEtbjVHUyYT1IVecT1n2qapKwvqWqVgnrT6pqmLB+paq2CQtU1SFhqapLq8NSVaeWhqWqfq0LS1VdWxSWqnq3IixVDWg5WKoa01qwVDWshWCpamSrwFLV4JaAparx1YelqikVh6WqWVWGpaqJlYWlqrnVhKWq6RWEpaoIVYOlqiCVgqWqONWBpapQFYGlqmhVgKWqgKWHpaqY5YalqrAlhqWqyGWFpargpYSlqvjlg6WqFCWDpaosZYKlqkSlgaWqXOWApap0JYClqoxFh6WqpIWGpaq8xYWlqtQFhaWq7EWEpaoChYOlqhrFgqWqMgWCpapKRYGlqmKFgKWqes2HpaqSTYalqqrNhKWqwk2DparazYGlqvJNgKWqFRoNS1WLNBSWqtZpHCxVLdUgWKparRGwVLVg3WGpas36wlLVsnWEpaqV6wVLVYvXBZaqrD0sVRnNYanKbrWEpSr7rBksVdnX2sBSld3VAJaq7GdnYanKHnYKlqrsWcdhqcpedBCWqux1R2Cpyt62G5aqbEv7YKnKNrYDlqpse1thqcp2tQmWqmxv72Gpyg70Bpaq7FivYKnKDvcUlqrsTI9hqcpO9gCWqux897BUZU36BktV1qo/sFRlDfsFS1XWtg9UZR36HzJb8Nlf3qPOAAAAAElFTkSuQmCC) |\n",
    "|      3      |                                                                                                                                                                                                                                                                                                                                                                                                                                                                                                                                                                                                                                                                                                                                                                                                                                                                                                                                                                             ![oryginal3](data:image/png;base64,iVBORw0KGgoAAAANSUhEUgAAASwAAABkCAAAAAAZalIcAAAA8ElEQVR4nO3T0QmAMBQEQSPaf8naQvbrEZip4Fi4db3suqcHnESsQKxArECsQKxArECsQKxArECsQKxArECsQKxArECsQKxArECsQKxArECsQKxArECsQKxArECsQKxArECsQKxArECsQKxArECsQKxArECsQKxArECsQKxArECsQKxArECsYH3TCw6ynukFB3HDQKxArECsQKxArECsQKxArECsQKxArECsQKxArECsQKxArECsQKxArECsQKxArECsQKxArECsQKxArECsQKxArECsQKxArECsQKxArECsQKxArECsQKxArECsQKzgB09nS8g7K22tAAAAAElFTkSuQmCC)                                                                                                                                                                                                                                                                                                                                                                                                                                                                                                                                                                                                                                                                                                                                                                                                                                                                                                                                                                             |                                                                                                                                                                                                                                                                                                                                                                                                                                                                                                                                                                                                                                                                                                                                                             ![negatyw3](data:image/png;base64,iVBORw0KGgoAAAANSUhEUgAAASwAAABkCAAAAAAZalIcAAAA7ElEQVR4nO3SwQkAIQADQbX/ju9xtuC+RJipICyZ/8epdXvAS8QKxArECsQKxArECsQKxArECsQKxArECsQKxArECsQKxArECsQKxArECsQKxArECsQKxArECsQKxArECsQKxArECsQKxArECsQKxArECsQKxArECsQKxArECsQKxArECsQK5ri94CGeFYgViBWIFYgViBWIFYgViBWIFYgViBWIFYgViBWIFYgViBWIFYgViBWIFYgViBWIFYgViBWIFYgViBWIFYgViBWIFYgViBWIFYgViBWIFYgViBWIFYgViBWIFYgViBVsjTPsjnD2dl0AAAAASUVORK5CYII=)                                                                                                                                                                                                                                                                                                                                                                                                                                                                                                                                                                                                                                                                                                                                                             |"
   ]
  },
  {
   "cell_type": "markdown",
   "id": "44ca9d48e09ef2e9",
   "metadata": {},
   "source": [
    "### Zad3"
   ]
  },
  {
   "cell_type": "code",
   "id": "73696fdaedf9d5cf",
   "metadata": {},
   "source": [
    "def koloruj_w_paski(obraz, grub, kolor, zmiana_koloru):\n",
    "    t_obraz = np.asarray(obraz)\n",
    "    h, w = t_obraz.shape\n",
    "    t = (h, w, 3)\n",
    "    tab = np.ones(t, dtype=np.uint8)\n",
    "    for i in range(h):\n",
    "        for j in range(w):\n",
    "            if not t_obraz[i, j]:\n",
    "                tab[i, j] = tuple((kolor[k] + zmiana_koloru * (i // grub)) % 256 for k in range(3))\n",
    "            else:\n",
    "                tab[i, j] = [255, 255, 255]\n",
    "    return Image.fromarray(tab)"
   ],
   "outputs": [],
   "execution_count": null
  },
  {
   "cell_type": "markdown",
   "id": "2c189d5d0fcc3681",
   "metadata": {},
   "source": [
    "* kolor (w formacie [r, g, b]) - od jakiego koloru ma zacząć paski\n",
    "* zmiana_koloru (liczba 0-255) - o jaką wartość ma zmienić kolor paska"
   ]
  },
  {
   "cell_type": "markdown",
   "id": "8ba62a6232c82426",
   "metadata": {},
   "source": [
    "|                                                                                                                                                                                                                                                                                                                                                                                                                                                                                                                                                                                                                   oryginal                                                                                                                                                                                                                                                                                                                                                                                                                                                                                                                                                                                                                   |                                                                                                                                                                                                                png                                                                                                                                                                                                                 |                                                                                                                                                                                                                                                                                                                                                                                                                                                                                                                                                                                                                                                                                                                                                                                                                                       jpg                                                                                                                                                                                                                                                                                                                                                                                                                                                                                                                                                                                                                                                                                                                                                                                                                                       |\n",
    "|:--------------------------------------------------------------------------------------------------------------------------------------------------------------------------------------------------------------------------------------------------------------------------------------------------------------------------------------------------------------------------------------------------------------------------------------------------------------------------------------------------------------------------------------------------------------------------------------------------------------------------------------------------------------------------------------------------------------------------------------------------------------------------------------------------------------------------------------------------------------------------------------------------------------------------------------------------------------------------------------------------------------------------------------------------------------------------------------------------------------------------------------------------------------------------------------------------------------------------------------------:|:----------------------------------------------------------------------------------------------------------------------------------------------------------------------------------------------------------------------------------------------------------------------------------------------------------------------------------------------------------------------------------------------------------------------------------:|:-------------------------------------------------------------------------------------------------------------------------------------------------------------------------------------------------------------------------------------------------------------------------------------------------------------------------------------------------------------------------------------------------------------------------------------------------------------------------------------------------------------------------------------------------------------------------------------------------------------------------------------------------------------------------------------------------------------------------------------------------------------------------------------------------------------------------------------------------------------------------------------------------------------------------------------------------------------------------------------------------------------------------------------------------------------------------------------------------------------------------------------------------------------------------------------------------------------------------------------------------------------------------------------------------------------------------------------------------------------------------------------------------------------------------------------------------------------------------------------------------------------------------------------------------------------------------------------------------------------------------------------------------------------------------------:|\n",
    "| ![oryginal_inicjaly](data:image/bmp;base64,Qk1eAwAAAAAAAD4AAAAoAAAAZAAAADIAAAABAAEAAAAAACADAAAAAAAAAAAAAAAAAAAAAAAAAAAAAP///wD////////////////wAAAA////////////////8AAAAP////////////////AAAAD////////////////wAAAA////////////////8AAAAP//9//////3//////AAAAD///f/////9//////wAAAA///3//////f/////8AAAAP//9//////3//////AAAAD///f/////9//////wAAAA///3//////f/////8AAAAP//9//////3//////AAAAD///f/////9//////wAAAA///3//////f/////8AAAAP//9//////3//////AAAAD///f/////9//////wAAAA///3//////f/////8AAAAP//9//////3//////AAAAD///f/////9//////wAAAA///3//////f/////8AAAAP//9//////3//////AAAAD///f/////9//////wAAAA///3//////f/////8AAAAP//9//////3//////AAAAD///f/////9//////wAAAA///wAA////AAB///8AAAAP//9//////3//f///AAAAD///f/////9//3///wAAAA///3//////f/9///8AAAAP//9//////3//f///AAAAD///f/////9//3///wAAAA///3//////f/9///8AAAAP//9//////3//f///AAAAD///f/////9//3///wAAAA///3//////f/9///8AAAAP//9//////3//f///AAAAD///f/////9//3///wAAAA///3//////f/9///8AAAAP//9//////3//f///AAAAD///f/////9//3///wAAAA///3//////f/9///8AAAAP//9//////3//f///AAAAD///AAD///8AAH///wAAAA////////////////8AAAAP////////////////AAAAD////////////////wAAAA////////////////8AAAAP////////////////AAAAD////////////////wAAAA////////////////8AAAAA==) | ![png](data:image/png;base64,iVBORw0KGgoAAAANSUhEUgAAAGQAAAAyCAIAAAAlV+npAAAA6UlEQVR4nO3bwQ1BQRCAYU9UoAVVaIMOFKANdwXowFkJqnCemxZWAw7778wL4v/OT2bzZ95GJKbW2kJ9lp8+wC8xFmAswFiAsQBjAavMh9fXB3r+ud9kxg3PrRqdilV1iLnnDsR9y9cQSMWKiKpzzDq36pxuFmAswFiAsQAveMDNAowFGAswFuAFD7hZgLEAYwHZ37Puh3P/w9vLMTlubG6VVKyI2N1OVUf5/rm+hoCxAGMBxgL+4ht8FTcLMBZgLMBYgBc84GYBxgKMBRgL8IIH3CzAWICxAGMBk3906udmAcYCjAUYC3gBNzVGqapEkkEAAAAASUVORK5CYII=) | ![jpg](data:image/jpeg;base64,/9j/4AAQSkZJRgABAQAAAQABAAD/2wBDAAgGBgcGBQgHBwcJCQgKDBQNDAsLDBkSEw8UHRofHh0aHBwgJC4nICIsIxwcKDcpLDAxNDQ0Hyc5PTgyPC4zNDL/2wBDAQkJCQwLDBgNDRgyIRwhMjIyMjIyMjIyMjIyMjIyMjIyMjIyMjIyMjIyMjIyMjIyMjIyMjIyMjIyMjIyMjIyMjL/wAARCAAyAGQDASIAAhEBAxEB/8QAHwAAAQUBAQEBAQEAAAAAAAAAAAECAwQFBgcICQoL/8QAtRAAAgEDAwIEAwUFBAQAAAF9AQIDAAQRBRIhMUEGE1FhByJxFDKBkaEII0KxwRVS0fAkM2JyggkKFhcYGRolJicoKSo0NTY3ODk6Q0RFRkdISUpTVFVWV1hZWmNkZWZnaGlqc3R1dnd4eXqDhIWGh4iJipKTlJWWl5iZmqKjpKWmp6ipqrKztLW2t7i5usLDxMXGx8jJytLT1NXW19jZ2uHi4+Tl5ufo6erx8vP09fb3+Pn6/8QAHwEAAwEBAQEBAQEBAQAAAAAAAAECAwQFBgcICQoL/8QAtREAAgECBAQDBAcFBAQAAQJ3AAECAxEEBSExBhJBUQdhcRMiMoEIFEKRobHBCSMzUvAVYnLRChYkNOEl8RcYGRomJygpKjU2Nzg5OkNERUZHSElKU1RVVldYWVpjZGVmZ2hpanN0dXZ3eHl6goOEhYaHiImKkpOUlZaXmJmaoqOkpaanqKmqsrO0tba3uLm6wsPExcbHyMnK0tPU1dbX2Nna4uPk5ebn6Onq8vP09fb3+Pn6/9oADAMBAAIRAxEAPwD3+iiigCvc31nZbftV1BBvzt82QLux1xn6ioP7d0j/AKCtj/4EJ/jUkiqdXtmP3xBKBz2LR5/kKt1a5baoiUal7pq3p/wUV7a+s73d9luoJ9mN3lSBtuemcfQ1YooqXboUr21Cq9zfWdlt+1XUEG/O3zZAu7HXGfqKsVUkVTq9sx++IJQOexaPP8hQrX1BqTVo7kf9u6R/0FbH/wACE/xqW21KxvJDHa3ttO4G4rFKrED1wD71aqpIqnV7Zj98QSgc9i0ef5Cq9zsTGNRvdfd/wS3RRRUFhRRRQAUUUUAUZWxrtouOttMf/Hov8avVj39tbXfiPT4bqCKZPsly4SVAwyHhGcHvz+tWf7D0j/oFWP8A4Dp/hTNGo2V3/V2X6Kr21jaWW77LawQb8bvKjC7sdM4+pqxSIdugVRlbGu2i4620x/8AHov8avVj39tbXfiPT4bqCKZPsly4SVAwyHhGcHvz+tCKp76+f5GxVGVsa7aLjrbTH/x6L/Gk/sPSP+gVY/8AgOn+FS22m2NnIZLWyt4HI2loolUkemQPagE4rVFqiiiggKKKKACiiigDIuWP/CY6avY6fdn/AMiW/wDjWvULRMbyObI2rG6kd8kqf6GpqSbdw5m9LbBRRRTAKyLlj/wmOmr2On3Z/wDIlv8A41r1C0TG8jmyNqxupHfJKn+hpNtbBzOOqRNRRRTAKKKKACiiigAooooAKKKKACiiigAooooAKKKKACiiigAooooA/9k=) |\n",
    "\n",
    "Otrzymane obrazy są różne, gdyż format JPEG jest stratny, czyli przy zapisie niektóre dane obrazu są trwale kasowane.\n",
    "\n",
    "Objawia się to artefaktami na wynikowej grafice.\n",
    "\n",
    "PNG w przeciwieństwie do JPEG jest bezstratny, co oznacza zapis bez utraty danych o zdjęciu. Obsługuje również kanał alfa, czyli przezroczystość."
   ]
  },
  {
   "cell_type": "markdown",
   "id": "edd37a06631bde33",
   "metadata": {},
   "source": [
    "### Zad 4"
   ]
  },
  {
   "cell_type": "code",
   "id": "703214a55c9e7938",
   "metadata": {},
   "source": [
    "tab_uint8 = np.arange(2, dtype='uint8')\n",
    "print(f\"tab_uint8 dtype: {tab_uint8.dtype}\")\n",
    "# tab_uint8[0] = 328\n",
    "# OverflowError: Python integer 328 out of bounds for uint8\n",
    "# tab_uint8[1] = -24\n",
    "# OverflowError: Python integer -24 out of bounds for uint8"
   ],
   "outputs": [],
   "execution_count": null
  },
  {
   "cell_type": "markdown",
   "id": "e2d3d457fa7b6417",
   "metadata": {},
   "source": [
    "Jeśli elementy tablicy są typu `uint8`, to próba wpisania elementu spoza zakresu kończy się błędem OverflowError."
   ]
  },
  {
   "cell_type": "code",
   "id": "3ee91687905c311c",
   "metadata": {},
   "source": [
    "tab_int16 = np.arange(2, dtype='int16')\n",
    "print(f\"tab_int16 dtype: {tab_int16.dtype}\")\n",
    "tab_int16[0] = 324\n",
    "tab_int16[1] = -24\n",
    "print(f\"tab_int16 values: {[tab_int16[i] for i in range(tab_int16.size)]}\") # 324, -24\n",
    "tab_uint8 = tab_int16.copy().astype('uint8') # konwersja tablicy int16 na typ uint8 \n",
    "print(f\"tab_uint8 dtype: {tab_uint8.dtype}\")\n",
    "print(f\"tab_uint8 values: {[tab_uint8[i] for i in range(tab_uint8.size)]}\") # 68, 232"
   ],
   "outputs": [],
   "execution_count": null
  },
  {
   "cell_type": "markdown",
   "id": "ed94619a5d0a9cb7",
   "metadata": {},
   "source": [
    "Przy konwersji tablicy z elementami `int16` na tablie elementów `uint8` następuje integer overflow (wraparound), co sprawia, że liczba zawija się na początek/koniec zakresu.\n",
    "\n",
    "Zakres `uint8` = [0,255]\n",
    "\n",
    "Gdy wartość przekroczy 255, to wynik jest zawijany do 0, a gdy liczba jest mniejsza od zera to jest zawijana do 255.\n",
    "\n",
    "324 (`int16`) -> 324 - 256 = 68 (`uint8`)\n",
    "\n",
    "-24 (`int16`) -> 256 - 24 = 232 (`uint8`)"
   ]
  }
 ],
 "metadata": {
  "kernelspec": {
   "display_name": "Python 3 (ipykernel)",
   "language": "python",
   "name": "python3"
  },
  "language_info": {
   "codemirror_mode": {
    "name": "ipython",
    "version": 3
   },
   "file_extension": ".py",
   "mimetype": "text/x-python",
   "name": "python",
   "nbconvert_exporter": "python",
   "pygments_lexer": "ipython3",
   "version": "3.12.3"
  }
 },
 "nbformat": 4,
 "nbformat_minor": 5
}
